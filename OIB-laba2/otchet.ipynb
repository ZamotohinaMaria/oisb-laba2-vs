{
 "cells": [
  {
   "attachments": {},
   "cell_type": "markdown",
   "metadata": {},
   "source": [
    "## подключаемые модули"
   ]
  },
  {
   "cell_type": "code",
   "execution_count": 25,
   "metadata": {},
   "outputs": [],
   "source": [
    "import os\n",
    "import mpmath"
   ]
  },
  {
   "attachments": {},
   "cell_type": "markdown",
   "metadata": {},
   "source": [
    "## чтение данных из файлов"
   ]
  },
  {
   "cell_type": "code",
   "execution_count": 54,
   "metadata": {},
   "outputs": [
    {
     "name": "stdout",
     "output_type": "stream",
     "text": [
      "['00000110000001110101101100001111110001100110000111011111001100011100011111010001111011101001000001001101100001011010010011101100', '11110001111101010010110110110110101010010101010000000101101001111001101111011111001111110011001011011110100110110110101010000000', '11010011100010100100101110100011110101110001001110110100101111111100001010000011000010101101101101010011101011100101111110100001']\n"
     ]
    }
   ],
   "source": [
    "list_of_seq = []\n",
    "with open(os.path.abspath('RandomSequence.txt'), \"r\", encoding=\"utf-8\") as file:\n",
    "    for el in file.readlines():\n",
    "        list_of_seq.append(el[:-1])\n",
    "        \n",
    "print(list_of_seq)"
   ]
  },
  {
   "cell_type": "code",
   "execution_count": 55,
   "metadata": {},
   "outputs": [
    {
     "name": "stdout",
     "output_type": "stream",
     "text": [
      "['1.140316', '0.215925', '0.479500']\n"
     ]
    }
   ],
   "source": [
    "list_of_bitwice_test = []\n",
    "with open(os.path.abspath('FrequencyBitwiseTest.txt'), \"r\", encoding=\"utf-8\") as file:\n",
    "    for el in file.readlines():\n",
    "        list_of_bitwice_test.append(el[:-1])\n",
    "        \n",
    "print(list_of_bitwice_test)"
   ]
  },
  {
   "cell_type": "code",
   "execution_count": 56,
   "metadata": {},
   "outputs": [
    {
     "name": "stdout",
     "output_type": "stream",
     "text": [
      "['0.077491', '0.302274', '0.450701']\n"
     ]
    }
   ],
   "source": [
    "list_of_identical_test = []\n",
    "with open(os.path.abspath('IdenticalBits.txt'), \"r\", encoding=\"utf-8\") as file:\n",
    "    for el in file.readlines():\n",
    "        list_of_identical_test.append(el[:-1])\n",
    "        \n",
    "print(list_of_identical_test)"
   ]
  },
  {
   "cell_type": "code",
   "execution_count": 57,
   "metadata": {},
   "outputs": [
    {
     "name": "stdout",
     "output_type": "stream",
     "text": [
      "['0.399204', '9.244001', '0.652631']\n"
     ]
    }
   ],
   "source": [
    "list_of_largest_test = []\n",
    "with open(os.path.abspath('TheLargestSequence.txt'), \"r\", encoding=\"utf-8\") as file:\n",
    "    for el in file.readlines():\n",
    "        list_of_largest_test.append(el[:-1])\n",
    "        \n",
    "print(list_of_largest_test)"
   ]
  },
  {
   "attachments": {},
   "cell_type": "markdown",
   "metadata": {},
   "source": [
    "## завершение 3-го теста (подсчет неполной гамма-функции)"
   ]
  },
  {
   "cell_type": "code",
   "execution_count": 58,
   "metadata": {},
   "outputs": [],
   "source": [
    "for i in range(3):\n",
    "    list_of_largest_test[i] = mpmath.gammainc(1.5, float(list_of_largest_test[i]) / 2)"
   ]
  },
  {
   "attachments": {},
   "cell_type": "markdown",
   "metadata": {},
   "source": [
    "## вывод всех результатов"
   ]
  },
  {
   "cell_type": "code",
   "execution_count": 59,
   "metadata": {},
   "outputs": [
    {
     "name": "stdout",
     "output_type": "stream",
     "text": [
      "результаты для 1 последовательности:\n",
      "\t последовательность: 00000110000001110101101100001111110001100110000111011111001100011100011111010001111011101001000001001101100001011010010011101100\n",
      "\t 1 тест: 1.140316\n",
      "\t 2 тест: 0.077491\n",
      "\t 3 тест: 0.833413898557115\n",
      "последовательности случайные, все хорошо сработало\n",
      "\n",
      "результаты для 2 последовательности:\n",
      "\t последовательность: 11110001111101010010110110110110101010010101010000000101101001111001101111011111001111110011001011011110100110110110101010000000\n",
      "\t 1 тест: 0.215925\n",
      "\t 2 тест: 0.302274\n",
      "\t 3 тест: 0.0232339060165558\n",
      "последовательности случайные, все хорошо сработало\n",
      "\n",
      "результаты для 3 последовательности:\n",
      "\t последовательность: 11010011100010100100101110100011110101110001001110110100101111111100001010000011000010101101101101010011101011100101111110100001\n",
      "\t 1 тест: 0.479500\n",
      "\t 2 тест: 0.450701\n",
      "\t 3 тест: 0.78367708374781\n",
      "последовательности случайные, все хорошо сработало\n",
      "\n"
     ]
    }
   ],
   "source": [
    "for i in range(3):\n",
    "    print(f'результаты для {i + 1} последовательности:')\n",
    "    print(f'\\t последовательность: {list_of_seq[i]}')\n",
    "    print(f'\\t 1 тест: {list_of_bitwice_test[i]}')\n",
    "    print(f'\\t 2 тест: {list_of_identical_test[i]}')\n",
    "    print(f'\\t 3 тест: {list_of_largest_test[i]}')\n",
    "    if (float(list_of_bitwice_test[i]) < 0.01 or float(list_of_identical_test[i]) < 0.01 or float(list_of_largest_test[i]) < 0.01):\n",
    "        print('последовательность не случайная, создатель лабы где-то налажал\\n')\n",
    "    else:\n",
    "        print('последовательность случайная, все хорошо сработало\\n')"
   ]
  }
 ],
 "metadata": {
  "kernelspec": {
   "display_name": "base",
   "language": "python",
   "name": "python3"
  },
  "language_info": {
   "codemirror_mode": {
    "name": "ipython",
    "version": 3
   },
   "file_extension": ".py",
   "mimetype": "text/x-python",
   "name": "python",
   "nbconvert_exporter": "python",
   "pygments_lexer": "ipython3",
   "version": "3.9.13"
  },
  "orig_nbformat": 4,
  "vscode": {
   "interpreter": {
    "hash": "960e651994a923c8580311382dd3517ae83689739d490e324b89482666af2124"
   }
  }
 },
 "nbformat": 4,
 "nbformat_minor": 2
}
